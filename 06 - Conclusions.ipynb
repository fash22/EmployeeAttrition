{
 "cells": [
  {
   "attachments": {},
   "cell_type": "markdown",
   "metadata": {},
   "source": [
    "# Project Phase 6: Conclusions\n",
    "On the previous five notebooks, we are able to use data science and machine learning to identify notable variables that might help us understand employee attrition.\n",
    "\n",
    "Here are some of the major things we'ved conducted:\n",
    "\n",
    "- On the data cleaning phase, we make sure that the data was properly formatted and does not contain erroneous and missing values.\n",
    "- During the visualization phase, we checked the distributions of the data in order to enable us to familiarize and conduct visual comparison of the distributions of employees that stayed and left the company; we also used correlations among variables to understand how each of them affects the other.\n",
    "- During Data preprocessing, we conducted feature scaling, and data balancing in order to help our machine learning models perform more reliably.\n",
    "- During the modelling phase, we developed several machine learning models that can be used as tool in predicting which employee will more likely to leave the company, out of the 4 models, RandomForest and Neural Networks performs the best.\n",
    "- During model understanding, we used the most simplistic machine learning model to quantify the contributions of each attributes in the probability that an employee will leave the company.\n",
    "\n",
    "Now, based on the results of this study, It is recommended that companies should focus more on understanding their employee's needs such that they are satisfied with the work environment, job satisfaction, relationship satisfaction and work-life balance. They should also develop schemes in reducing rendering of overtime of employees as this is the top contributing variable in employee attrition. To me, it is very surprising that the monthly income is not the top contributing factor that an employee stays in their organization -- its their satisfaction."
   ]
  },
  {
   "cell_type": "markdown",
   "metadata": {},
   "source": []
  }
 ],
 "metadata": {
  "kernelspec": {
   "display_name": "Python 3",
   "language": "python",
   "name": "python3"
  },
  "language_info": {
   "name": "python",
   "version": "3.11.0"
  },
  "orig_nbformat": 4,
  "vscode": {
   "interpreter": {
    "hash": "c261aea317cc0286b3b3261fbba9abdec21eaa57589985bb7a274bf54d6cc0a7"
   }
  }
 },
 "nbformat": 4,
 "nbformat_minor": 2
}
